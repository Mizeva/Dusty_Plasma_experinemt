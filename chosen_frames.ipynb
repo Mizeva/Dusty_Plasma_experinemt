{
  "nbformat": 4,
  "nbformat_minor": 0,
  "metadata": {
    "colab": {
      "provenance": [],
      "authorship_tag": "ABX9TyOUvdMhWo3PPIg75rLiOJe/",
      "include_colab_link": true
    },
    "kernelspec": {
      "name": "python3",
      "display_name": "Python 3"
    },
    "language_info": {
      "name": "python"
    }
  },
  "cells": [
    {
      "cell_type": "markdown",
      "metadata": {
        "id": "view-in-github",
        "colab_type": "text"
      },
      "source": [
        "<a href=\"https://colab.research.google.com/github/Mizeva/Dusty_Plasma_experinemt/blob/main/chosen_frames.ipynb\" target=\"_parent\"><img src=\"https://colab.research.google.com/assets/colab-badge.svg\" alt=\"Open In Colab\"/></a>"
      ]
    },
    {
      "cell_type": "code",
      "execution_count": null,
      "metadata": {
        "id": "llCK1neIegGw"
      },
      "outputs": [],
      "source": [
        "from numpy.core.function_base import linspace\n",
        "import matplotlib.pyplot as plt\n",
        "import numpy as np\n",
        "from statistics import mean\n",
        "import math\n",
        "from scipy.optimize import curve_fit\n",
        "import pandas as pd\n",
        "from scipy.misc import derivative"
      ]
    },
    {
      "cell_type": "code",
      "source": [],
      "metadata": {
        "id": "wEGbzp5V4G_l"
      },
      "execution_count": null,
      "outputs": []
    },
    {
      "cell_type": "code",
      "source": [
        "fx = np.loadtxt(\"/content/X1000.txt\")\n",
        "fy = np.loadtxt(\"/content/Y1000.txt\")\n",
        "x = np.array([[0.0 for i in range(len(fx))] for j in range(4)])\n",
        "y = np.array([[0.0 for i in range(len(fy))] for j in range(4)])\n",
        "for i in range(len(fx)):\n",
        "    for j in range(0, 4):\n",
        "        x[j][i] = fx[i][j]\n",
        "        y[j][i] = fy[i][j]"
      ],
      "metadata": {
        "id": "0h-qWvAoeipV"
      },
      "execution_count": null,
      "outputs": []
    },
    {
      "cell_type": "code",
      "source": [
        "fx_new = open(\"X.txt\", \"w\")\n",
        "fy_new = open(\"Y.txt\", \"w\")\n",
        "\n",
        "for i in range(len(fx)):\n",
        "    for j in range(0, 4):\n",
        "      if i <= 5900:\n",
        "        fx_new.write(str(fx[i][j]) + ' ')\n",
        "        fy_new.write(str(fy[i][j]) + ' ')\n",
        "    fx_new.write('\\n')\n",
        "    fy_new.write('\\n')\n",
        "\n",
        "fx_new.close()\n",
        "fy_new.close()"
      ],
      "metadata": {
        "id": "vGr6WYoce36B"
      },
      "execution_count": null,
      "outputs": []
    }
  ]
}